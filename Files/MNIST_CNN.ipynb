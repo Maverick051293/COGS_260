{
 "cells": [
  {
   "cell_type": "code",
   "execution_count": 1,
   "metadata": {},
   "outputs": [],
   "source": [
    "import torch, torchvision\n",
    "import torchvision.transforms as transforms\n",
    "\n",
    "import torch.nn as nn\n",
    "import torch.nn.functional as F\n",
    "from torch.autograd import Variable\n",
    "from torchvision import models\n",
    "\n",
    "import torch.optim as optim\n",
    "\n",
    "import numpy as np\n",
    "import matplotlib.pyplot as plt"
   ]
  },
  {
   "cell_type": "code",
   "execution_count": 2,
   "metadata": {},
   "outputs": [
    {
     "name": "stdout",
     "output_type": "stream",
     "text": [
      "0.4.0\n",
      "Python 3.6.4 :: Anaconda, Inc.\r\n"
     ]
    }
   ],
   "source": [
    "print(torch.__version__)\n",
    "!python --version"
   ]
  },
  {
   "cell_type": "code",
   "execution_count": 3,
   "metadata": {},
   "outputs": [],
   "source": [
    "use_cuda = torch.cuda.is_available()\n",
    "device = torch.device(\"cuda\" if use_cuda else \"cpu\")"
   ]
  },
  {
   "cell_type": "code",
   "execution_count": 4,
   "metadata": {},
   "outputs": [],
   "source": [
    "# Setting some hyperparameters\n",
    "batchSize = 4\n",
    "num_epochs = 5"
   ]
  },
  {
   "cell_type": "code",
   "execution_count": 5,
   "metadata": {},
   "outputs": [],
   "source": [
    "transform_to = transforms.Compose([transforms.ToTensor(), transforms.Normalize((0.1307,), (0.3081,))])\n",
    "# Trying this out\n",
    "# transform_to = transforms.Compose([transforms.ToTensor(), transforms.Normalize((0.5,0.5,0.5), (0.5,0.5,0.5))])"
   ]
  },
  {
   "cell_type": "code",
   "execution_count": 6,
   "metadata": {},
   "outputs": [],
   "source": [
    "# Loading the datasets\n",
    "train_data = torchvision.datasets.MNIST(root = './data',transform = transform_to, download = True)\n",
    "trainLoader = torch.utils.data.DataLoader(train_data, batch_size=batchSize, shuffle = True)\n",
    "\n",
    "test_data = torchvision.datasets.MNIST(root = './data', train = False, transform = transform_to,download = True )\n",
    "testLoader = torch.utils.data.DataLoader(test_data,batch_size=batchSize)"
   ]
  },
  {
   "cell_type": "code",
   "execution_count": 7,
   "metadata": {},
   "outputs": [],
   "source": [
    "def imgshow(images,labels = None):\n",
    "    fig = plt.figure(figsize = (10,10))\n",
    "    for i in range(batchSize):\n",
    "        ax = plt.subplot(1,batchSize,i+1)\n",
    "        unnormalized_img = images[i]*0.3081 + 0.1307\n",
    "        plt.imshow(unnormalized_img,cmap = 'gray')\n",
    "        plt.axis('off')\n",
    "        if labels is not None:\n",
    "            plt.title(labels[i])\n",
    "    "
   ]
  },
  {
   "cell_type": "code",
   "execution_count": 8,
   "metadata": {},
   "outputs": [
    {
     "data": {
      "image/png": "[encoded data removed]",
      "text/plain": [
       "<Figure size 720x720 with 4 Axes>"
      ]
     },
     "metadata": {},
     "output_type": "display_data"
    }
   ],
   "source": [
    "# Viewing a few images\n",
    "\n",
    "sample_data = next(iter(trainLoader))\n",
    "images,labels = sample_data\n",
    "imgshow(images.numpy().squeeze(),labels.numpy())"
   ]
  },
  {
   "cell_type": "code",
   "execution_count": 9,
   "metadata": {},
   "outputs": [],
   "source": [
    "# Defining the network for running\n",
    "\n",
    "class CNN_Network(nn.Module):\n",
    "    \n",
    "    def __init__(self):\n",
    "        super().__init__()\n",
    "        self.conv1 = nn.Conv2d(1,20,5)\n",
    "        self.conv2 = nn.Conv2d(20,50,5)\n",
    "        self.max_pool = nn.MaxPool2d(2)\n",
    "        self.fc1 = nn.Linear(4*4*50,20)\n",
    "        self.fc2 = nn.Linear(20,10)\n",
    "    \n",
    "    \n",
    "    def forward(self,x):\n",
    "        \n",
    "        x = self.max_pool(F.relu(self.conv1(x)))\n",
    "        x = self.max_pool(F.relu(self.conv2(x)))\n",
    "        x = x.view(-1,4*4*50)\n",
    "        x = F.relu(self.fc1(x))\n",
    "        x = self.fc2(x)\n",
    "        return x\n",
    "        \n",
    "        "
   ]
  },
  {
   "cell_type": "code",
   "execution_count": 10,
   "metadata": {},
   "outputs": [],
   "source": [
    "def train(network,optimizer,loss_criteria):\n",
    "    loss_list = []\n",
    "    for epoch in range(num_epochs):\n",
    "        running_loss = 0.0\n",
    "        epoch_loss = []\n",
    "        for i,data in enumerate(trainLoader):\n",
    "            images,labels = data\n",
    "            images,labels = Variable(images).to(device),Variable(labels).to(device)\n",
    "            \n",
    "            optimizer.zero_grad()\n",
    "            outputs = network(images)\n",
    "\n",
    "            loss = loss_criteria(outputs,labels)\n",
    "            epoch_loss.append(loss.item())\n",
    "            loss.backward()\n",
    "            optimizer.step()\n",
    "            \n",
    "            running_loss += loss.item()\n",
    "            \n",
    "            if (i+1)%2000==0:\n",
    "                avg_loss = running_loss/2000\n",
    "                print(f'Epoch:{epoch+1} Iteration:{i+1} Loss:{avg_loss: .3f}')\n",
    "                running_loss = 0.0\n",
    "        loss_list.append(np.array(epoch_loss).mean())\n",
    "    print('Finished Training')\n",
    "    return loss_list"
   ]
  },
  {
   "cell_type": "code",
   "execution_count": 11,
   "metadata": {},
   "outputs": [],
   "source": [
    "# Plotting training loss\n",
    "\n",
    "def plot_train_loss(losses,optmzr,LossFunc):\n",
    "    plt.plot(losses)\n",
    "    plt.title(f'Training loss with {optmzr} and {LossFunc}')\n",
    "    plt.xlabel('Iterations')\n",
    "    plt.ylabel('Loss')"
   ]
  },
  {
   "cell_type": "code",
   "execution_count": 12,
   "metadata": {},
   "outputs": [],
   "source": [
    "# Predicting on test data\n",
    "\n",
    "def predict_on_test(network):\n",
    "    correct = 0\n",
    "    total = 0\n",
    "\n",
    "    for data in testLoader:\n",
    "        images,labels = data\n",
    "        outputs = network(Variable(images).to(device))\n",
    "        class_scores,preds = torch.max(outputs.data,1)\n",
    "        total += len(labels)\n",
    "        correct += (preds == labels.to(device)).sum().item()\n",
    "\n",
    "    print(f'Accuracy on test data: {correct*100/total}%')    "
   ]
  },
  {
   "cell_type": "markdown",
   "metadata": {},
   "source": [
    "<b> Cross Entropy Loss and SGD"
   ]
  },
  {
   "cell_type": "code",
   "execution_count": 13,
   "metadata": {},
   "outputs": [],
   "source": [
    "net = CNN_Network().to(device)"
   ]
  },
  {
   "cell_type": "code",
   "execution_count": 14,
   "metadata": {},
   "outputs": [
    {
     "data": {
      "text/plain": [
       "CNN_Network(\n",
       "  (conv1): Conv2d(1, 20, kernel_size=(5, 5), stride=(1, 1))\n",
       "  (conv2): Conv2d(20, 50, kernel_size=(5, 5), stride=(1, 1))\n",
       "  (max_pool): MaxPool2d(kernel_size=2, stride=2, padding=0, dilation=1, ceil_mode=False)\n",
       "  (fc1): Linear(in_features=800, out_features=20, bias=True)\n",
       "  (fc2): Linear(in_features=20, out_features=10, bias=True)\n",
       ")"
      ]
     },
     "execution_count": 14,
     "metadata": {},
     "output_type": "execute_result"
    }
   ],
   "source": [
    "# Network architecture\n",
    "net.eval()"
   ]
  },
  {
   "cell_type": "code",
   "execution_count": 15,
   "metadata": {},
   "outputs": [],
   "source": [
    "loss_criteria1 = nn.CrossEntropyLoss()\n",
    "optimizer1 = optim.SGD(net.parameters(), lr = 0.001, momentum= 0.9)"
   ]
  },
  {
   "cell_type": "code",
   "execution_count": 16,
   "metadata": {},
   "outputs": [
    {
     "name": "stdout",
     "output_type": "stream",
     "text": [
      "Epoch:1 Iteration:2000 Loss: 0.487\n",
      "Epoch:1 Iteration:4000 Loss: 0.147\n",
      "Epoch:1 Iteration:6000 Loss: 0.111\n",
      "Epoch:1 Iteration:8000 Loss: 0.097\n",
      "Epoch:1 Iteration:10000 Loss: 0.083\n",
      "Epoch:1 Iteration:12000 Loss: 0.070\n",
      "Epoch:1 Iteration:14000 Loss: 0.068\n",
      "Epoch:2 Iteration:2000 Loss: 0.045\n",
      "Epoch:2 Iteration:4000 Loss: 0.054\n",
      "Epoch:2 Iteration:6000 Loss: 0.042\n",
      "Epoch:2 Iteration:8000 Loss: 0.049\n",
      "Epoch:2 Iteration:10000 Loss: 0.043\n",
      "Epoch:2 Iteration:12000 Loss: 0.052\n",
      "Epoch:2 Iteration:14000 Loss: 0.041\n",
      "Epoch:3 Iteration:2000 Loss: 0.031\n",
      "Epoch:3 Iteration:4000 Loss: 0.036\n",
      "Epoch:3 Iteration:6000 Loss: 0.035\n",
      "Epoch:3 Iteration:8000 Loss: 0.035\n",
      "Epoch:3 Iteration:10000 Loss: 0.034\n",
      "Epoch:3 Iteration:12000 Loss: 0.033\n",
      "Epoch:3 Iteration:14000 Loss: 0.032\n",
      "Epoch:4 Iteration:2000 Loss: 0.028\n",
      "Epoch:4 Iteration:4000 Loss: 0.026\n",
      "Epoch:4 Iteration:6000 Loss: 0.022\n",
      "Epoch:4 Iteration:8000 Loss: 0.025\n",
      "Epoch:4 Iteration:10000 Loss: 0.027\n",
      "Epoch:4 Iteration:12000 Loss: 0.023\n",
      "Epoch:4 Iteration:14000 Loss: 0.029\n",
      "Epoch:5 Iteration:2000 Loss: 0.018\n",
      "Epoch:5 Iteration:4000 Loss: 0.020\n",
      "Epoch:5 Iteration:6000 Loss: 0.024\n",
      "Epoch:5 Iteration:8000 Loss: 0.016\n",
      "Epoch:5 Iteration:10000 Loss: 0.015\n",
      "Epoch:5 Iteration:12000 Loss: 0.025\n",
      "Epoch:5 Iteration:14000 Loss: 0.022\n",
      "Finished Training\n"
     ]
    }
   ],
   "source": [
    "CE_SGD_loss = train(net,optimizer1,loss_criteria1)"
   ]
  },
  {
   "cell_type": "code",
   "execution_count": 17,
   "metadata": {},
   "outputs": [
    {
     "data": {
      "text/plain": [
       "[0.1467262256860733,\n",
       " 0.04688969598412514,\n",
       " 0.033236270447572075,\n",
       " 0.02603090745806694,\n",
       " 0.020239187014102936]"
      ]
     },
     "execution_count": 17,
     "metadata": {},
     "output_type": "execute_result"
    }
   ],
   "source": [
    "CE_SGD_loss"
   ]
  },
  {
   "cell_type": "code",
   "execution_count": 18,
   "metadata": {},
   "outputs": [
    {
     "data": {
      "image/png": "[encoded data removed]",
      "text/plain": [
       "<Figure size 432x288 with 1 Axes>"
      ]
     },
     "metadata": {},
     "output_type": "display_data"
    }
   ],
   "source": [
    "plot_train_loss(CE_SGD_loss,'SGD','Cross Entropy Loss')"
   ]
  },
  {
   "cell_type": "code",
   "execution_count": 19,
   "metadata": {},
   "outputs": [
    {
     "data": {
      "image/png": "[encoded data removed]",
      "text/plain": [
       "<Figure size 720x720 with 4 Axes>"
      ]
     },
     "metadata": {},
     "output_type": "display_data"
    }
   ],
   "source": [
    "# Displaying a few test images\n",
    "\n",
    "sample_test = next(iter(testLoader))\n",
    "images,labels = sample_test\n",
    "imgshow(images.numpy().squeeze())"
   ]
  },
  {
   "cell_type": "code",
   "execution_count": 20,
   "metadata": {},
   "outputs": [
    {
     "name": "stdout",
     "output_type": "stream",
     "text": [
      "Accuracy on test data: 99.09%\n"
     ]
    }
   ],
   "source": [
    "predict_on_test(net)"
   ]
  },
  {
   "cell_type": "markdown",
   "metadata": {},
   "source": [
    "<b> Using Adam and Cross Entropy Loss"
   ]
  },
  {
   "cell_type": "code",
   "execution_count": 21,
   "metadata": {},
   "outputs": [],
   "source": [
    "net_adam = CNN_Network().to(device)"
   ]
  },
  {
   "cell_type": "code",
   "execution_count": 22,
   "metadata": {},
   "outputs": [],
   "source": [
    "optimizer2 = optim.Adam(net_adam.parameters())"
   ]
  },
  {
   "cell_type": "code",
   "execution_count": 23,
   "metadata": {},
   "outputs": [
    {
     "name": "stdout",
     "output_type": "stream",
     "text": [
      "Epoch:1 Iteration:2000 Loss: 0.389\n",
      "Epoch:1 Iteration:4000 Loss: 0.131\n",
      "Epoch:1 Iteration:6000 Loss: 0.103\n",
      "Epoch:1 Iteration:8000 Loss: 0.091\n",
      "Epoch:1 Iteration:10000 Loss: 0.086\n",
      "Epoch:1 Iteration:12000 Loss: 0.069\n",
      "Epoch:1 Iteration:14000 Loss: 0.056\n",
      "Epoch:2 Iteration:2000 Loss: 0.051\n",
      "Epoch:2 Iteration:4000 Loss: 0.059\n",
      "Epoch:2 Iteration:6000 Loss: 0.051\n",
      "Epoch:2 Iteration:8000 Loss: 0.043\n",
      "Epoch:2 Iteration:10000 Loss: 0.051\n",
      "Epoch:2 Iteration:12000 Loss: 0.049\n",
      "Epoch:2 Iteration:14000 Loss: 0.053\n",
      "Epoch:3 Iteration:2000 Loss: 0.031\n",
      "Epoch:3 Iteration:4000 Loss: 0.044\n",
      "Epoch:3 Iteration:6000 Loss: 0.035\n",
      "Epoch:3 Iteration:8000 Loss: 0.038\n",
      "Epoch:3 Iteration:10000 Loss: 0.038\n",
      "Epoch:3 Iteration:12000 Loss: 0.044\n",
      "Epoch:3 Iteration:14000 Loss: 0.040\n",
      "Epoch:4 Iteration:2000 Loss: 0.024\n",
      "Epoch:4 Iteration:4000 Loss: 0.034\n",
      "Epoch:4 Iteration:6000 Loss: 0.031\n",
      "Epoch:4 Iteration:8000 Loss: 0.028\n",
      "Epoch:4 Iteration:10000 Loss: 0.042\n",
      "Epoch:4 Iteration:12000 Loss: 0.041\n",
      "Epoch:4 Iteration:14000 Loss: 0.036\n",
      "Epoch:5 Iteration:2000 Loss: 0.017\n",
      "Epoch:5 Iteration:4000 Loss: 0.031\n",
      "Epoch:5 Iteration:6000 Loss: 0.032\n",
      "Epoch:5 Iteration:8000 Loss: 0.030\n",
      "Epoch:5 Iteration:10000 Loss: 0.033\n",
      "Epoch:5 Iteration:12000 Loss: 0.028\n",
      "Epoch:5 Iteration:14000 Loss: 0.033\n",
      "Finished Training\n"
     ]
    }
   ],
   "source": [
    "CE_Adam_loss = train(net_adam,optimizer2,loss_criteria1)"
   ]
  },
  {
   "cell_type": "code",
   "execution_count": 24,
   "metadata": {},
   "outputs": [
    {
     "data": {
      "text/plain": [
       "[0.12793874488075574,\n",
       " 0.05061449485818545,\n",
       " 0.0392896095464627,\n",
       " 0.03432819336770723,\n",
       " 0.029379665671723586]"
      ]
     },
     "execution_count": 24,
     "metadata": {},
     "output_type": "execute_result"
    }
   ],
   "source": [
    "CE_Adam_loss"
   ]
  },
  {
   "cell_type": "code",
   "execution_count": 25,
   "metadata": {},
   "outputs": [
    {
     "data": {
      "image/png": "[encoded data removed]",
      "text/plain": [
       "<Figure size 432x288 with 1 Axes>"
      ]
     },
     "metadata": {},
     "output_type": "display_data"
    }
   ],
   "source": [
    "plot_train_loss(CE_Adam_loss,'Adam','Cross Entropy Loss')"
   ]
  },
  {
   "cell_type": "code",
   "execution_count": 26,
   "metadata": {},
   "outputs": [
    {
     "name": "stdout",
     "output_type": "stream",
     "text": [
      "Accuracy on test data: 98.89%\n"
     ]
    }
   ],
   "source": [
    "predict_on_test(net_adam)"
   ]
  },
  {
   "cell_type": "markdown",
   "metadata": {},
   "source": [
    "<b> RMSProp with Cross Entropy Loss"
   ]
  },
  {
   "cell_type": "code",
   "execution_count": 27,
   "metadata": {},
   "outputs": [],
   "source": [
    "net_rms = CNN_Network().to(device)"
   ]
  },
  {
   "cell_type": "code",
   "execution_count": 28,
   "metadata": {},
   "outputs": [],
   "source": [
    "optimizer3 = optim.RMSprop(net_rms.parameters(),lr = 0.01, momentum = 0.9)"
   ]
  },
  {
   "cell_type": "code",
   "execution_count": 29,
   "metadata": {},
   "outputs": [
    {
     "name": "stdout",
     "output_type": "stream",
     "text": [
      "Epoch:1 Iteration:2000 Loss: 2.721\n",
      "Epoch:1 Iteration:4000 Loss: 2.337\n",
      "Epoch:1 Iteration:6000 Loss: 2.337\n",
      "Epoch:1 Iteration:8000 Loss: 2.340\n",
      "Epoch:1 Iteration:10000 Loss: 2.338\n",
      "Epoch:1 Iteration:12000 Loss: 2.338\n",
      "Epoch:1 Iteration:14000 Loss: 2.341\n",
      "Epoch:2 Iteration:2000 Loss: 2.340\n",
      "Epoch:2 Iteration:4000 Loss: 2.338\n",
      "Epoch:2 Iteration:6000 Loss: 2.337\n",
      "Epoch:2 Iteration:8000 Loss: 2.335\n",
      "Epoch:2 Iteration:10000 Loss: 2.337\n",
      "Epoch:2 Iteration:12000 Loss: 2.337\n",
      "Epoch:2 Iteration:14000 Loss: 2.335\n",
      "Epoch:3 Iteration:2000 Loss: 2.336\n",
      "Epoch:3 Iteration:4000 Loss: 2.339\n",
      "Epoch:3 Iteration:6000 Loss: 2.338\n",
      "Epoch:3 Iteration:8000 Loss: 2.341\n",
      "Epoch:3 Iteration:10000 Loss: 2.339\n",
      "Epoch:3 Iteration:12000 Loss: 2.337\n",
      "Epoch:3 Iteration:14000 Loss: 2.336\n",
      "Epoch:4 Iteration:2000 Loss: 2.337\n",
      "Epoch:4 Iteration:4000 Loss: 2.339\n",
      "Epoch:4 Iteration:6000 Loss: 2.341\n",
      "Epoch:4 Iteration:8000 Loss: 2.336\n",
      "Epoch:4 Iteration:10000 Loss: 2.337\n",
      "Epoch:4 Iteration:12000 Loss: 2.337\n",
      "Epoch:4 Iteration:14000 Loss: 2.336\n",
      "Epoch:5 Iteration:2000 Loss: 2.338\n",
      "Epoch:5 Iteration:4000 Loss: 2.337\n",
      "Epoch:5 Iteration:6000 Loss: 2.337\n",
      "Epoch:5 Iteration:8000 Loss: 2.339\n",
      "Epoch:5 Iteration:10000 Loss: 2.340\n",
      "Epoch:5 Iteration:12000 Loss: 2.341\n",
      "Epoch:5 Iteration:14000 Loss: 2.338\n",
      "Finished Training\n"
     ]
    }
   ],
   "source": [
    "CE_RMS_loss = train(net_rms,optimizer3,loss_criteria1)"
   ]
  },
  {
   "cell_type": "code",
   "execution_count": 30,
   "metadata": {},
   "outputs": [
    {
     "data": {
      "text/plain": [
       "[2.3892380762020746,\n",
       " 2.3365589092731476,\n",
       " 2.3379768923600515,\n",
       " 2.3373049317359924,\n",
       " 2.3384570117712022]"
      ]
     },
     "execution_count": 30,
     "metadata": {},
     "output_type": "execute_result"
    }
   ],
   "source": [
    "CE_RMS_loss"
   ]
  },
  {
   "cell_type": "code",
   "execution_count": 31,
   "metadata": {},
   "outputs": [
    {
     "data": {
      "image/png": "[encoded data removed]",
      "text/plain": [
       "<Figure size 432x288 with 1 Axes>"
      ]
     },
     "metadata": {},
     "output_type": "display_data"
    }
   ],
   "source": [
    "plot_train_loss(CE_RMS_loss,'RMSProp','Cross Entropy Loss')"
   ]
  },
  {
   "cell_type": "code",
   "execution_count": 32,
   "metadata": {},
   "outputs": [
    {
     "name": "stdout",
     "output_type": "stream",
     "text": [
      "Accuracy on test data: 11.35%\n"
     ]
    }
   ],
   "source": [
    "predict_on_test(net_rms)"
   ]
  },
  {
   "cell_type": "markdown",
   "metadata": {},
   "source": [
    "<i> We observe that we get the best results when we use Stochastic Gradient Descent as optimizer and Cross Entropy Loss as the loss function. </i><br>\n",
    "\n",
    "<b>Analyzing the predictions made by the network</b>\n",
    "    "
   ]
  },
  {
   "cell_type": "code",
   "execution_count": 33,
   "metadata": {},
   "outputs": [],
   "source": [
    "# Loading all the test images again \n",
    "test_images = torchvision.datasets.MNIST(root= './data',train=False, transform=transform_to, download = False)\n",
    "test_analysis_data = torch.utils.data.DataLoader(test_images,batch_size=len(test_images))"
   ]
  },
  {
   "cell_type": "code",
   "execution_count": 34,
   "metadata": {},
   "outputs": [],
   "source": [
    "analysis_data = next(iter(test_analysis_data))"
   ]
  },
  {
   "cell_type": "code",
   "execution_count": 35,
   "metadata": {},
   "outputs": [],
   "source": [
    "analysis_images = analysis_data[0].numpy()"
   ]
  },
  {
   "cell_type": "code",
   "execution_count": 36,
   "metadata": {},
   "outputs": [],
   "source": [
    "# Getting predictions on test data\n",
    "test_outputs = net(Variable(analysis_data[0]).to(device))\n",
    "test_scores, preds = torch.max(test_outputs.data,1)"
   ]
  },
  {
   "cell_type": "code",
   "execution_count": 37,
   "metadata": {},
   "outputs": [],
   "source": [
    "labels = analysis_data[1].numpy()\n",
    "preds = preds.cpu().numpy()\n",
    "test_scores = test_scores.cpu().numpy()"
   ]
  },
  {
   "cell_type": "markdown",
   "metadata": {},
   "source": [
    "<b> Random Correct Predictions"
   ]
  },
  {
   "cell_type": "code",
   "execution_count": 38,
   "metadata": {},
   "outputs": [
    {
     "name": "stdout",
     "output_type": "stream",
     "text": [
      "Total correct predictions:9909\n"
     ]
    }
   ],
   "source": [
    "correct_labels = np.where(preds==labels)[0]\n",
    "print(f'Total correct predictions:{len(correct_labels)}')\n",
    "indexes = np.random.choice(correct_labels,4,replace = False)"
   ]
  },
  {
   "cell_type": "markdown",
   "metadata": {},
   "source": [
    "Note: Images have titles representing the correct label names"
   ]
  },
  {
   "cell_type": "code",
   "execution_count": 39,
   "metadata": {},
   "outputs": [
    {
     "data": {
      "image/png": "[encoded data removed]",
      "text/plain": [
       "<Figure size 720x720 with 4 Axes>"
      ]
     },
     "metadata": {},
     "output_type": "display_data"
    }
   ],
   "source": [
    "imgshow(analysis_images[indexes].squeeze(), preds[indexes])"
   ]
  },
  {
   "cell_type": "markdown",
   "metadata": {},
   "source": [
    "<b> Random Incorrect Predictions"
   ]
  },
  {
   "cell_type": "code",
   "execution_count": 40,
   "metadata": {},
   "outputs": [
    {
     "name": "stdout",
     "output_type": "stream",
     "text": [
      "Total incorrect predictions:91\n"
     ]
    }
   ],
   "source": [
    "incorrect_labels = np.where(preds != labels)[0]\n",
    "print(f'Total incorrect predictions:{len(incorrect_labels)}')\n",
    "incorrect_indexes = np.random.choice(incorrect_labels,4,replace=False)"
   ]
  },
  {
   "cell_type": "code",
   "execution_count": 41,
   "metadata": {},
   "outputs": [
    {
     "name": "stdout",
     "output_type": "stream",
     "text": [
      "[9 7 9 2]\n"
     ]
    },
    {
     "data": {
      "image/png": "[encoded data removed]",
      "text/plain": [
       "<Figure size 720x720 with 4 Axes>"
      ]
     },
     "metadata": {},
     "output_type": "display_data"
    }
   ],
   "source": [
    "print(labels[incorrect_indexes])\n",
    "imgshow(analysis_images[incorrect_indexes].squeeze(), preds[incorrect_indexes])"
   ]
  },
  {
   "cell_type": "markdown",
   "metadata": {},
   "source": [
    "<b> Most Correct Predictions"
   ]
  },
  {
   "cell_type": "code",
   "execution_count": 42,
   "metadata": {},
   "outputs": [],
   "source": [
    "correct_scores = test_scores[correct_labels]\n",
    "most_correct_preds = np.argsort(correct_scores)[::-1][:4]"
   ]
  },
  {
   "cell_type": "code",
   "execution_count": 43,
   "metadata": {},
   "outputs": [
    {
     "data": {
      "image/png": "[encoded data removed]",
      "text/plain": [
       "<Figure size 720x720 with 4 Axes>"
      ]
     },
     "metadata": {},
     "output_type": "display_data"
    }
   ],
   "source": [
    "imgshow(analysis_images[most_correct_preds].squeeze(),correct_scores[most_correct_preds])"
   ]
  },
  {
   "cell_type": "markdown",
   "metadata": {},
   "source": [
    "<b> Most incorrect Predictions"
   ]
  },
  {
   "cell_type": "code",
   "execution_count": 44,
   "metadata": {},
   "outputs": [],
   "source": [
    "incorrect_scores = test_scores[incorrect_labels]\n",
    "wrong_labels = labels[incorrect_labels]\n",
    "most_incorrect_preds = np.argsort(incorrect_scores)[::-1][:4]"
   ]
  },
  {
   "cell_type": "code",
   "execution_count": 45,
   "metadata": {},
   "outputs": [
    {
     "name": "stdout",
     "output_type": "stream",
     "text": [
      "Predictions:[5 3 7 5] \n"
     ]
    },
    {
     "data": {
      "image/png": "[encoded data removed]",
      "text/plain": [
       "<Figure size 720x720 with 4 Axes>"
      ]
     },
     "metadata": {},
     "output_type": "display_data"
    }
   ],
   "source": [
    "imgshow(analysis_images[most_incorrect_preds].squeeze(),incorrect_scores[most_incorrect_preds])\n",
    "print(f'Predictions:{wrong_labels[most_incorrect_preds]} ')"
   ]
  }
 ],
 "metadata": {
  "kernelspec": {
   "display_name": "Python 3",
   "language": "python",
   "name": "python3"
  },
  "language_info": {
   "codemirror_mode": {
    "name": "ipython",
    "version": 3
   },
   "file_extension": ".py",
   "mimetype": "text/x-python",
   "name": "python",
   "nbconvert_exporter": "python",
   "pygments_lexer": "ipython3",
   "version": "3.6.5"
  }
 },
 "nbformat": 4,
 "nbformat_minor": 2
}
