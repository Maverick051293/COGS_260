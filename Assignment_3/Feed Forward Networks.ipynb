{
 "cells": [
  {
   "cell_type": "code",
   "execution_count": 1,
   "metadata": {},
   "outputs": [],
   "source": [
    "import torch, torchvision\n",
    "import torchvision.transforms as transforms\n",
    "\n",
    "import torch.nn as nn\n",
    "import torch.nn.functional as F\n",
    "from torch.autograd import Variable\n",
    "\n",
    "import torch.optim as optimizer\n",
    "\n",
    "import numpy as np\n",
    "import matplotlib.pyplot as plt\n",
    "import random"
   ]
  },
  {
   "cell_type": "code",
   "execution_count": 2,
   "metadata": {},
   "outputs": [
    {
     "name": "stdout",
     "output_type": "stream",
     "text": [
      "0.3.1.post3\n",
      "Python 3.6.4 :: Anaconda, Inc.\n"
     ]
    }
   ],
   "source": [
    "print(torch.__version__)\n",
    "! python --version"
   ]
  },
  {
   "cell_type": "code",
   "execution_count": 3,
   "metadata": {},
   "outputs": [
    {
     "data": {
      "text/plain": [
       "'Quadro K5200'"
      ]
     },
     "execution_count": 3,
     "metadata": {},
     "output_type": "execute_result"
    }
   ],
   "source": [
    "#  CUDA\n",
    "use_cuda = torch.cuda.is_available()\n",
    "# device = torch.device(\"cuda\" if use_cuda else '\"cpu')\n",
    "torch.cuda.set_device(0)\n",
    "torch.cuda.get_device_name(0)"
   ]
  },
  {
   "cell_type": "code",
   "execution_count": 4,
   "metadata": {},
   "outputs": [],
   "source": [
    "# Copied to make it work. DataLoader was giving errors\n",
    "try:\n",
    "    torch._utils._rebuild_tensor_v2\n",
    "except AttributeError:\n",
    "    def _rebuild_tensor_v2(storage, storage_offset, size, stride, requires_grad, backward_hooks):\n",
    "        tensor = torch._utils._rebuild_tensor(storage, storage_offset, size, stride)\n",
    "        tensor.requires_grad = requires_grad\n",
    "        tensor._backward_hooks = backward_hooks\n",
    "        return tensor\n",
    "    torch._utils._rebuild_tensor_v2 = _rebuild_tensor_v2"
   ]
  },
  {
   "cell_type": "code",
   "execution_count": 5,
   "metadata": {},
   "outputs": [],
   "source": [
    "# Hyperparameters \n",
    "num_epochs = 20\n",
    "batchSize = 4\n",
    "\n",
    "input_dim = 784\n",
    "hidden_dim = 100\n",
    "hidden2_dim = 64\n",
    "output_dim = 10"
   ]
  },
  {
   "cell_type": "code",
   "execution_count": 6,
   "metadata": {},
   "outputs": [],
   "source": [
    "# Transformation Function\n",
    "transform_to = transforms.Compose([transforms.ToTensor(), transforms.Normalize((0.1307,), (0.3081,))])"
   ]
  },
  {
   "cell_type": "code",
   "execution_count": 7,
   "metadata": {},
   "outputs": [],
   "source": [
    "# Loading the data\n",
    "trainData = torchvision.datasets.MNIST(root = './data', transform = transform_to,download = False)\n",
    "trainLoader = torch.utils.data.DataLoader(trainData,batch_size=batchSize,shuffle = True)\n",
    "\n",
    "testData = torchvision.datasets.MNIST(root = './data/', transform = transform_to,train = False, download = False)\n",
    "testLoader = torch.utils.data.DataLoader(testData, batch_size=batchSize)"
   ]
  },
  {
   "cell_type": "code",
   "execution_count": 8,
   "metadata": {},
   "outputs": [],
   "source": [
    "# Visualizing a few images\n",
    "\n",
    "def show_img(image,labels = None):\n",
    "    fig = plt.figure(figsize = (10,10))\n",
    "    for i in range(len(image)):\n",
    "        ax = plt.subplot(1,len(image),i+1)\n",
    "        unnormalized_image = image[i]*0.3081 + 0.1307\n",
    "        plt.imshow(unnormalized_image, cmap = 'gray')\n",
    "        plt.axis('off')\n",
    "        if labels is not None:\n",
    "            plt.title(labels[i])"
   ]
  },
  {
   "cell_type": "code",
   "execution_count": 9,
   "metadata": {},
   "outputs": [
    {
     "data": {
      "image/png": "[encoded data removed]",
      "text/plain": [
       "<Figure size 720x720 with 4 Axes>"
      ]
     },
     "metadata": {},
     "output_type": "display_data"
    }
   ],
   "source": [
    "sample = next(iter(trainLoader))\n",
    "image, label = sample\n",
    "show_img(image.numpy().squeeze(),label.numpy())"
   ]
  },
  {
   "cell_type": "code",
   "execution_count": 10,
   "metadata": {},
   "outputs": [],
   "source": [
    "# Defining a Network\n",
    "\n",
    "class One_Hidden_Net(nn.Module):\n",
    "    \n",
    "    def __init__(self,i_dim,h_dim,o_dim):\n",
    "        super().__init__()\n",
    "        self.fc1 = nn.Linear(i_dim,h_dim)\n",
    "        self.fc2 = nn.Linear(h_dim,o_dim)\n",
    "        \n",
    "    def forward(self,x):\n",
    "        x = x.view(-1,784)\n",
    "        x = F.relu(self.fc1(x)) # 784x100\n",
    "        x = self.fc2(x) # 100x10\n",
    "        return x"
   ]
  },
  {
   "cell_type": "code",
   "execution_count": 11,
   "metadata": {},
   "outputs": [],
   "source": [
    "class Two_Hidden_Net(nn.Module):\n",
    "    \n",
    "    def __init__(self,i_dim,h1_dim,h2_dim,o_dim):\n",
    "        super().__init__()\n",
    "        self.fc1 = nn.Linear(i_dim,h1_dim)\n",
    "        self.fc2 = nn.Linear(h1_dim,h2_dim)\n",
    "        self.fc3 = nn.Linear(h2_dim,o_dim)\n",
    "        \n",
    "\n",
    "    def forward(self,x):\n",
    "        x = x.view(-1,784)\n",
    "        x = F.relu(self.fc1(x))\n",
    "        x = F.relu(self.fc2(x))\n",
    "        x = self.fc3(x)\n",
    "        return x"
   ]
  },
  {
   "cell_type": "code",
   "execution_count": 12,
   "metadata": {},
   "outputs": [],
   "source": [
    "def train(network,optimizer,loss_func):\n",
    "    loss_list = []\n",
    "    for epoch in range(num_epochs):\n",
    "#         running_loss = 0.0\n",
    "        epoch_loss = []\n",
    "        for i,data in enumerate(trainLoader):\n",
    "            images,label = data\n",
    "            images, label = Variable(images).cuda(), Variable(label).cuda()\n",
    "        \n",
    "            optimizer.zero_grad()\n",
    "            output = network(images)\n",
    "            \n",
    "            loss = loss_func(output,label)\n",
    "            epoch_loss.append(loss.data[0])\n",
    "            loss.backward()\n",
    "            optimizer.step()\n",
    "            \n",
    "#             running_loss += loss.data[0]\n",
    "            \n",
    "#             if one_layer and (i+1)%2000 == 0:\n",
    "#                 avg_loss = running_loss/2000\n",
    "#                 print(f'Epoch: {epoch+1}, Iteration: {i+1}, Loss: {avg_loss:.3f}')\n",
    "#                 running_loss = 0.0\n",
    "        loss_list.append(np.array(epoch_loss).mean())   \n",
    "        print(f'Epoch: {epoch+1}, Loss: {np.array(epoch_loss).mean():.3f}')\n",
    "    \n",
    "    print('Finished Training')\n",
    "    return loss_list\n",
    "            "
   ]
  },
  {
   "cell_type": "code",
   "execution_count": 13,
   "metadata": {},
   "outputs": [],
   "source": [
    "def predict_on_test(network,iterator,model_name):\n",
    "    correct = 0\n",
    "    total = 0\n",
    "    for data in iterator:\n",
    "        images,labels = data\n",
    "        images = Variable(images).cuda()\n",
    "        outputs = network(images)\n",
    "        class_scores,preds = torch.max(outputs.data,1)\n",
    "        total += len(labels)\n",
    "        correct += (preds == labels.cuda()).sum()\n",
    "        \n",
    "    print(f'Accuracy on Test Data using a {model_name} is {correct*100/total:.2f}%')\n",
    "\n",
    "    \n",
    "def plot_train_loss(losses,title):\n",
    "    plt.plot(losses)\n",
    "    plt.title(title)\n",
    "    plt.xlabel('No. of Epochs')\n",
    "    plt.ylabel('Training Loss')"
   ]
  },
  {
   "cell_type": "markdown",
   "metadata": {},
   "source": [
    "<b> Using One Hidden Layer Network"
   ]
  },
  {
   "cell_type": "code",
   "execution_count": 14,
   "metadata": {},
   "outputs": [],
   "source": [
    "model = One_Hidden_Net(input_dim,hidden_dim,output_dim).cuda()"
   ]
  },
  {
   "cell_type": "code",
   "execution_count": 15,
   "metadata": {},
   "outputs": [
    {
     "data": {
      "text/plain": [
       "One_Hidden_Net(\n",
       "  (fc1): Linear(in_features=784, out_features=100, bias=True)\n",
       "  (fc2): Linear(in_features=100, out_features=10, bias=True)\n",
       ")"
      ]
     },
     "execution_count": 15,
     "metadata": {},
     "output_type": "execute_result"
    }
   ],
   "source": [
    "model.eval()"
   ]
  },
  {
   "cell_type": "code",
   "execution_count": 16,
   "metadata": {},
   "outputs": [],
   "source": [
    "# Setting hyperparameters\n",
    "\n",
    "loss_criterion = nn.CrossEntropyLoss()\n",
    "opt = optimizer.SGD(model.parameters(),lr = 0.01)"
   ]
  },
  {
   "cell_type": "code",
   "execution_count": 17,
   "metadata": {},
   "outputs": [
    {
     "name": "stdout",
     "output_type": "stream",
     "text": [
      "Epoch: 1, Loss: 0.227\n",
      "Epoch: 2, Loss: 0.098\n",
      "Epoch: 3, Loss: 0.070\n",
      "Epoch: 4, Loss: 0.054\n",
      "Epoch: 5, Loss: 0.041\n",
      "Epoch: 6, Loss: 0.034\n",
      "Epoch: 7, Loss: 0.026\n",
      "Epoch: 8, Loss: 0.020\n",
      "Epoch: 9, Loss: 0.016\n",
      "Epoch: 10, Loss: 0.012\n",
      "Epoch: 11, Loss: 0.009\n",
      "Epoch: 12, Loss: 0.007\n",
      "Epoch: 13, Loss: 0.005\n",
      "Epoch: 14, Loss: 0.003\n",
      "Epoch: 15, Loss: 0.003\n",
      "Epoch: 16, Loss: 0.002\n",
      "Epoch: 17, Loss: 0.002\n",
      "Epoch: 18, Loss: 0.001\n",
      "Epoch: 19, Loss: 0.001\n",
      "Epoch: 20, Loss: 0.001\n",
      "Finished Training\n"
     ]
    }
   ],
   "source": [
    "train_loss = train(model,opt, loss_criterion)"
   ]
  },
  {
   "cell_type": "code",
   "execution_count": 18,
   "metadata": {},
   "outputs": [
    {
     "data": {
      "image/png": "[encoded data removed]",
      "text/plain": [
       "<Figure size 432x288 with 1 Axes>"
      ]
     },
     "metadata": {},
     "output_type": "display_data"
    }
   ],
   "source": [
    "plot_train_loss(train_loss,'Training Loss on 1-Hidden Layer NN using SGD and CE Loss')"
   ]
  },
  {
   "cell_type": "code",
   "execution_count": 19,
   "metadata": {},
   "outputs": [
    {
     "name": "stdout",
     "output_type": "stream",
     "text": [
      "Accuracy on Test Data using a 1-Hidden Layer NN is 98.25%\n"
     ]
    }
   ],
   "source": [
    "predict_on_test(model,testLoader,'1-Hidden Layer NN')"
   ]
  },
  {
   "cell_type": "markdown",
   "metadata": {},
   "source": [
    "<b> Using Two Hidden Layer Network"
   ]
  },
  {
   "cell_type": "code",
   "execution_count": 20,
   "metadata": {},
   "outputs": [],
   "source": [
    "model_2 = Two_Hidden_Net(input_dim,hidden2_dim,hidden2_dim,output_dim).cuda()"
   ]
  },
  {
   "cell_type": "code",
   "execution_count": 21,
   "metadata": {},
   "outputs": [
    {
     "data": {
      "text/plain": [
       "Two_Hidden_Net(\n",
       "  (fc1): Linear(in_features=784, out_features=64, bias=True)\n",
       "  (fc2): Linear(in_features=64, out_features=64, bias=True)\n",
       "  (fc3): Linear(in_features=64, out_features=10, bias=True)\n",
       ")"
      ]
     },
     "execution_count": 21,
     "metadata": {},
     "output_type": "execute_result"
    }
   ],
   "source": [
    "model_2.eval()"
   ]
  },
  {
   "cell_type": "code",
   "execution_count": 22,
   "metadata": {},
   "outputs": [],
   "source": [
    "num_epochs = 30"
   ]
  },
  {
   "cell_type": "code",
   "execution_count": 23,
   "metadata": {},
   "outputs": [],
   "source": [
    "loss_criterion2 = nn.CrossEntropyLoss()\n",
    "opt2 = optimizer.SGD(model_2.parameters(),lr = 0.01)"
   ]
  },
  {
   "cell_type": "code",
   "execution_count": 24,
   "metadata": {},
   "outputs": [
    {
     "name": "stdout",
     "output_type": "stream",
     "text": [
      "Epoch: 1, Loss: 0.255\n",
      "Epoch: 2, Loss: 0.114\n",
      "Epoch: 3, Loss: 0.082\n",
      "Epoch: 4, Loss: 0.066\n",
      "Epoch: 5, Loss: 0.054\n",
      "Epoch: 6, Loss: 0.047\n",
      "Epoch: 7, Loss: 0.039\n",
      "Epoch: 8, Loss: 0.036\n",
      "Epoch: 9, Loss: 0.029\n",
      "Epoch: 10, Loss: 0.023\n",
      "Epoch: 11, Loss: 0.021\n",
      "Epoch: 12, Loss: 0.019\n",
      "Epoch: 13, Loss: 0.019\n",
      "Epoch: 14, Loss: 0.015\n",
      "Epoch: 15, Loss: 0.016\n",
      "Epoch: 16, Loss: 0.010\n",
      "Epoch: 17, Loss: 0.009\n",
      "Epoch: 18, Loss: 0.012\n",
      "Epoch: 19, Loss: 0.009\n",
      "Epoch: 20, Loss: 0.009\n",
      "Epoch: 21, Loss: 0.009\n",
      "Epoch: 22, Loss: 0.008\n",
      "Epoch: 23, Loss: 0.007\n",
      "Epoch: 24, Loss: 0.007\n",
      "Epoch: 25, Loss: 0.004\n",
      "Epoch: 26, Loss: 0.003\n",
      "Epoch: 27, Loss: 0.005\n",
      "Epoch: 28, Loss: 0.006\n",
      "Epoch: 29, Loss: 0.008\n",
      "Epoch: 30, Loss: 0.008\n",
      "Finished Training\n"
     ]
    }
   ],
   "source": [
    "train2_loss = train(model_2,opt2,loss_criterion2)"
   ]
  },
  {
   "cell_type": "code",
   "execution_count": 25,
   "metadata": {},
   "outputs": [
    {
     "data": {
      "image/png": "[encoded data removed]",
      "text/plain": [
       "<Figure size 432x288 with 1 Axes>"
      ]
     },
     "metadata": {},
     "output_type": "display_data"
    }
   ],
   "source": [
    "plot_train_loss(train2_loss,title = 'Training Loss on 2-Hidden Layer NN using SGD and CE Loss')"
   ]
  },
  {
   "cell_type": "code",
   "execution_count": 26,
   "metadata": {},
   "outputs": [
    {
     "name": "stdout",
     "output_type": "stream",
     "text": [
      "Accuracy on Test Data using a 2-Hidden Layer NN is 97.82%\n"
     ]
    }
   ],
   "source": [
    "predict_on_test(model_2,testLoader,'2-Hidden Layer NN')"
   ]
  }
 ],
 "metadata": {
  "kernelspec": {
   "display_name": "Python 3",
   "language": "python",
   "name": "python3"
  },
  "language_info": {
   "codemirror_mode": {
    "name": "ipython",
    "version": 3
   },
   "file_extension": ".py",
   "mimetype": "text/x-python",
   "name": "python",
   "nbconvert_exporter": "python",
   "pygments_lexer": "ipython3",
   "version": "3.6.5"
  }
 },
 "nbformat": 4,
 "nbformat_minor": 2
}
