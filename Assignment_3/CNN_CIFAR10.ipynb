{
 "cells": [
  {
   "cell_type": "code",
   "execution_count": 1,
   "metadata": {},
   "outputs": [],
   "source": [
    "import numpy as np\n",
    "import matplotlib.pyplot as plt\n",
    "\n",
    "import torch,torchvision\n",
    "import torchvision.transforms as transforms\n",
    "\n",
    "import torch.nn as nn\n",
    "import torch.nn.functional as F\n",
    "from torch.autograd import Variable\n",
    "\n",
    "import torch.optim as optim"
   ]
  },
  {
   "cell_type": "code",
   "execution_count": 2,
   "metadata": {},
   "outputs": [
    {
     "name": "stdout",
     "output_type": "stream",
     "text": [
      "0.3.1.post3\n",
      "Python 3.6.4 :: Anaconda, Inc.\r\n"
     ]
    }
   ],
   "source": [
    "print(torch.__version__)\n",
    "! python --version"
   ]
  },
  {
   "cell_type": "code",
   "execution_count": 3,
   "metadata": {},
   "outputs": [
    {
     "data": {
      "text/plain": [
       "'GeForce GTX 1080 Ti'"
      ]
     },
     "execution_count": 3,
     "metadata": {},
     "output_type": "execute_result"
    }
   ],
   "source": [
    "#  CUDA\n",
    "use_cuda = torch.cuda.is_available()\n",
    "# device = torch.device(\"cuda\" if use_cuda else '\"cpu')\n",
    "torch.cuda.set_device(0)\n",
    "torch.cuda.get_device_name(0)"
   ]
  },
  {
   "cell_type": "code",
   "execution_count": 4,
   "metadata": {},
   "outputs": [],
   "source": [
    "# Copied to make it work. Was giving errors\n",
    "try:\n",
    "    torch._utils._rebuild_tensor_v2\n",
    "except AttributeError:\n",
    "    def _rebuild_tensor_v2(storage, storage_offset, size, stride, requires_grad, backward_hooks):\n",
    "        tensor = torch._utils._rebuild_tensor(storage, storage_offset, size, stride)\n",
    "        tensor.requires_grad = requires_grad\n",
    "        tensor._backward_hooks = backward_hooks\n",
    "        return tensor\n",
    "    torch._utils._rebuild_tensor_v2 = _rebuild_tensor_v2"
   ]
  },
  {
   "cell_type": "code",
   "execution_count": 5,
   "metadata": {},
   "outputs": [],
   "source": [
    "# Hyperparameters \n",
    "num_epochs = 20\n",
    "batchSize = 4"
   ]
  },
  {
   "cell_type": "code",
   "execution_count": 6,
   "metadata": {},
   "outputs": [],
   "source": [
    "# Transformation Function\n",
    "transform_to = transforms.Compose([transforms.ToTensor(), transforms.Normalize((0.5,0.5,0.5),(0.5,0.5,0.5))])"
   ]
  },
  {
   "cell_type": "code",
   "execution_count": 7,
   "metadata": {},
   "outputs": [
    {
     "name": "stdout",
     "output_type": "stream",
     "text": [
      "Files already downloaded and verified\n",
      "Files already downloaded and verified\n"
     ]
    }
   ],
   "source": [
    "# Loading the data\n",
    "trainData = torchvision.datasets.CIFAR10(root = './CIFAR10', transform = transform_to,download = True)\n",
    "trainLoader = torch.utils.data.DataLoader(trainData,batch_size=batchSize,shuffle = True)\n",
    "\n",
    "testData = torchvision.datasets.CIFAR10(root = './data/', transform = transform_to,train = False, download = True)\n",
    "testLoader = torch.utils.data.DataLoader(testData, batch_size=batchSize)"
   ]
  },
  {
   "cell_type": "code",
   "execution_count": 8,
   "metadata": {},
   "outputs": [],
   "source": [
    "classes = ['plane', 'car', 'bird','cat', 'deer', 'dog', 'frog', 'horse', 'ship', 'truck']"
   ]
  },
  {
   "cell_type": "code",
   "execution_count": 9,
   "metadata": {},
   "outputs": [],
   "source": [
    "def plot_images(images,labels = None):\n",
    "    figure = plt.figure(figsize=(10,10))\n",
    "    for i in range(len(images)):\n",
    "        unnormalized_image = images[i]*0.5 + 0.5\n",
    "        ax = plt.subplot(1,len(images),i+1)\n",
    "        plt.imshow(unnormalized_image)\n",
    "        plt.axis('off')\n",
    "        if labels is not None:\n",
    "            plt.title(classes[labels[i]])\n",
    "            "
   ]
  },
  {
   "cell_type": "code",
   "execution_count": 10,
   "metadata": {},
   "outputs": [
    {
     "data": {
      "image/png": "[encoded data removed]",
      "text/plain": [
       "<Figure size 720x720 with 4 Axes>"
      ]
     },
     "metadata": {},
     "output_type": "display_data"
    }
   ],
   "source": [
    "sample = next(iter(trainLoader))\n",
    "image, label = sample\n",
    "plot_images(np.transpose(image.numpy(),(0,2,3,1)), label.numpy())"
   ]
  },
  {
   "cell_type": "code",
   "execution_count": 11,
   "metadata": {},
   "outputs": [
    {
     "data": {
      "text/plain": [
       "(torch.Size([4, 3, 32, 32]), torch.Size([4]))"
      ]
     },
     "execution_count": 11,
     "metadata": {},
     "output_type": "execute_result"
    }
   ],
   "source": [
    "image.shape, label.shape"
   ]
  },
  {
   "cell_type": "code",
   "execution_count": 12,
   "metadata": {},
   "outputs": [],
   "source": [
    "class My_Network(nn.Module):\n",
    "    \n",
    "    def __init__(self):\n",
    "        super().__init__()\n",
    "        self.conv1 = nn.Conv2d(3,6,5)\n",
    "        self.conv2 = nn.Conv2d(6,16,5)\n",
    "        self.max_pool = nn.MaxPool2d(2)\n",
    "        self.fc1 = nn.Linear(5*5*16,120)\n",
    "        self.fc2 = nn.Linear(120,84)\n",
    "        self.fc3 = nn.Linear(84,10)\n",
    "    \n",
    "    \n",
    "    def forward(self,x):\n",
    "        # Input image size -> 32x32x3\n",
    "        x = self.max_pool(F.relu(self.conv1(x))) # 14x14x6\n",
    "        x = self.max_pool(F.relu(self.conv2(x))) #5x5x16\n",
    "        x = x.view(-1,5*5*16) \n",
    "        x = F.relu(self.fc1(x)) #120\n",
    "        x = F.relu(self.fc2(x)) #84\n",
    "        x = self.fc3(x) #10\n",
    "        return x\n",
    "        "
   ]
  },
  {
   "cell_type": "code",
   "execution_count": 13,
   "metadata": {},
   "outputs": [],
   "source": [
    "def train(network,optimizer,loss_func, Loader,num_epoch):\n",
    "    loss_list = []\n",
    "    for epoch in range(num_epoch):\n",
    "        epoch_loss = []\n",
    "        for data in Loader:\n",
    "            images, labels = data\n",
    "            images, labels = Variable(images).cuda(), Variable(labels).cuda()\n",
    "            optimizer.zero_grad()\n",
    "            outputs = network(images)\n",
    "            loss = loss_func(outputs, labels)\n",
    "            epoch_loss.append(loss.data[0])\n",
    "            loss.backward()\n",
    "            optimizer.step()\n",
    "        mean_epoch_loss = np.array(epoch_loss).mean()\n",
    "        loss_list.append(mean_epoch_loss)\n",
    "        print(f'Epoch: {epoch+1}, Loss: {mean_epoch_loss:.3f}')\n",
    "    print('Finished Training!')\n",
    "    return loss_list\n",
    "            \n",
    "    \n",
    "def predict(network,Loader):\n",
    "    correct = 0\n",
    "    total = 0\n",
    "    for data in Loader:\n",
    "        images, labels = data\n",
    "        images = Variable(images).cuda()\n",
    "        outputs = network(images)\n",
    "        class_score,preds = torch.max(outputs.data,1)\n",
    "        total += len(labels)\n",
    "        correct += (preds == labels.cuda()).sum()\n",
    "    \n",
    "    print(f'Accuracy on the Test Set: {correct*100/total}%')\n",
    "    \n",
    "def plot_train_loss(losses,title):\n",
    "    plt.plot(losses)\n",
    "    plt.title(title)\n",
    "    plt.xlabel('No. of Epochs')\n",
    "    plt.ylabel('Training Loss')"
   ]
  },
  {
   "cell_type": "code",
   "execution_count": 14,
   "metadata": {},
   "outputs": [],
   "source": [
    "model = My_Network().cuda()"
   ]
  },
  {
   "cell_type": "code",
   "execution_count": 15,
   "metadata": {},
   "outputs": [
    {
     "data": {
      "text/plain": [
       "My_Network(\n",
       "  (conv1): Conv2d(3, 6, kernel_size=(5, 5), stride=(1, 1))\n",
       "  (conv2): Conv2d(6, 16, kernel_size=(5, 5), stride=(1, 1))\n",
       "  (max_pool): MaxPool2d(kernel_size=(2, 2), stride=(2, 2), dilation=(1, 1), ceil_mode=False)\n",
       "  (fc1): Linear(in_features=400, out_features=120, bias=True)\n",
       "  (fc2): Linear(in_features=120, out_features=84, bias=True)\n",
       "  (fc3): Linear(in_features=84, out_features=10, bias=True)\n",
       ")"
      ]
     },
     "execution_count": 15,
     "metadata": {},
     "output_type": "execute_result"
    }
   ],
   "source": [
    "model.eval()"
   ]
  },
  {
   "cell_type": "code",
   "execution_count": 16,
   "metadata": {},
   "outputs": [],
   "source": [
    "loss_criterion = nn.CrossEntropyLoss()\n",
    "opt = optim.SGD(model.parameters(),lr = 0.001, momentum=0.9)"
   ]
  },
  {
   "cell_type": "code",
   "execution_count": 17,
   "metadata": {},
   "outputs": [
    {
     "name": "stdout",
     "output_type": "stream",
     "text": [
      "Epoch: 1, Loss: 1.731\n",
      "Epoch: 2, Loss: 1.323\n",
      "Epoch: 3, Loss: 1.185\n",
      "Epoch: 4, Loss: 1.102\n",
      "Epoch: 5, Loss: 1.036\n",
      "Epoch: 6, Loss: 0.985\n",
      "Epoch: 7, Loss: 0.945\n",
      "Epoch: 8, Loss: 0.910\n",
      "Epoch: 9, Loss: 0.872\n",
      "Epoch: 10, Loss: 0.850\n",
      "Epoch: 11, Loss: 0.825\n",
      "Epoch: 12, Loss: 0.802\n",
      "Epoch: 13, Loss: 0.779\n",
      "Epoch: 14, Loss: 0.761\n",
      "Epoch: 15, Loss: 0.748\n",
      "Epoch: 16, Loss: 0.731\n",
      "Epoch: 17, Loss: 0.725\n",
      "Epoch: 18, Loss: 0.712\n",
      "Epoch: 19, Loss: 0.695\n",
      "Epoch: 20, Loss: 0.690\n",
      "Epoch: 21, Loss: 0.676\n",
      "Epoch: 22, Loss: 0.674\n",
      "Epoch: 23, Loss: 0.669\n",
      "Epoch: 24, Loss: 0.661\n",
      "Epoch: 25, Loss: 0.660\n",
      "Epoch: 26, Loss: 0.651\n",
      "Epoch: 27, Loss: 0.648\n",
      "Epoch: 28, Loss: 0.655\n",
      "Epoch: 29, Loss: 0.632\n",
      "Epoch: 30, Loss: 0.631\n",
      "Finished Training!\n"
     ]
    }
   ],
   "source": [
    "train_loss = train(model,opt,loss_criterion,trainLoader,30)"
   ]
  },
  {
   "cell_type": "code",
   "execution_count": 18,
   "metadata": {},
   "outputs": [
    {
     "data": {
      "image/png": "[encoded data removed]",
      "text/plain": [
       "<Figure size 432x288 with 1 Axes>"
      ]
     },
     "metadata": {},
     "output_type": "display_data"
    }
   ],
   "source": [
    "plot_train_loss(train_loss, 'Training Loss with a basic CNN network')"
   ]
  },
  {
   "cell_type": "code",
   "execution_count": 19,
   "metadata": {},
   "outputs": [
    {
     "name": "stdout",
     "output_type": "stream",
     "text": [
      "Accuracy on the Test Set: 59.51%\n"
     ]
    }
   ],
   "source": [
    "predict(model,testLoader)"
   ]
  },
  {
   "cell_type": "markdown",
   "metadata": {},
   "source": [
    "This is the baseline for the experimentation. Accuracy of network on CIFAR10 test set is about 62.03%"
   ]
  },
  {
   "cell_type": "markdown",
   "metadata": {},
   "source": [
    "<b> Running Batch-Norm"
   ]
  },
  {
   "cell_type": "code",
   "execution_count": 20,
   "metadata": {},
   "outputs": [],
   "source": [
    "class BN_Network(nn.Module):\n",
    "    \n",
    "    def __init__(self):\n",
    "        super().__init__()\n",
    "        self.conv1 = nn.Conv2d(3,6,5)\n",
    "        self.conv1_bn = nn.BatchNorm2d(6)\n",
    "        self.conv2 = nn.Conv2d(6,16,5)\n",
    "        self.conv2_bn = nn.BatchNorm2d(16)\n",
    "        self.max_pool = nn.MaxPool2d(2)\n",
    "        self.fc1 = nn.Linear(5*5*16,120)\n",
    "        self.fc1_bn = nn.BatchNorm2d(120)\n",
    "        self.fc2 = nn.Linear(120,84)\n",
    "        self.fc2_bn = nn.BatchNorm2d(84)\n",
    "        self.fc3 = nn.Linear(84,10)\n",
    "    \n",
    "    \n",
    "    def forward(self,x):\n",
    "        # Input image size -> 32x32x3\n",
    "        x = self.max_pool(self.conv1_bn(F.relu(self.conv1(x)))) # 14x14x6\n",
    "        x = self.max_pool(self.conv2_bn(F.relu(self.conv2(x)))) #5x5x16\n",
    "        x = x.view(-1,5*5*16) \n",
    "        x = self.fc1_bn(F.relu(self.fc1(x))) #120\n",
    "        x = self.fc2_bn(F.relu(self.fc2(x))) #84\n",
    "        x = self.fc3(x) #10\n",
    "        return x"
   ]
  },
  {
   "cell_type": "code",
   "execution_count": 21,
   "metadata": {},
   "outputs": [],
   "source": [
    "model_bn = BN_Network().cuda()"
   ]
  },
  {
   "cell_type": "code",
   "execution_count": 22,
   "metadata": {},
   "outputs": [
    {
     "data": {
      "text/plain": [
       "<bound method Module.eval of BN_Network(\n",
       "  (conv1): Conv2d(3, 6, kernel_size=(5, 5), stride=(1, 1))\n",
       "  (conv1_bn): BatchNorm2d(6, eps=1e-05, momentum=0.1, affine=True)\n",
       "  (conv2): Conv2d(6, 16, kernel_size=(5, 5), stride=(1, 1))\n",
       "  (conv2_bn): BatchNorm2d(16, eps=1e-05, momentum=0.1, affine=True)\n",
       "  (max_pool): MaxPool2d(kernel_size=(2, 2), stride=(2, 2), dilation=(1, 1), ceil_mode=False)\n",
       "  (fc1): Linear(in_features=400, out_features=120, bias=True)\n",
       "  (fc1_bn): BatchNorm2d(120, eps=1e-05, momentum=0.1, affine=True)\n",
       "  (fc2): Linear(in_features=120, out_features=84, bias=True)\n",
       "  (fc2_bn): BatchNorm2d(84, eps=1e-05, momentum=0.1, affine=True)\n",
       "  (fc3): Linear(in_features=84, out_features=10, bias=True)\n",
       ")>"
      ]
     },
     "execution_count": 22,
     "metadata": {},
     "output_type": "execute_result"
    }
   ],
   "source": [
    "model_bn.eval"
   ]
  },
  {
   "cell_type": "code",
   "execution_count": 23,
   "metadata": {},
   "outputs": [],
   "source": [
    "loss_criterion2 = nn.CrossEntropyLoss()\n",
    "opt2 = optim.SGD(model_bn.parameters(),lr = 0.001, momentum=0.9)"
   ]
  },
  {
   "cell_type": "code",
   "execution_count": 24,
   "metadata": {},
   "outputs": [
    {
     "name": "stdout",
     "output_type": "stream",
     "text": [
      "Epoch: 1, Loss: 1.945\n",
      "Epoch: 2, Loss: 1.749\n",
      "Epoch: 3, Loss: 1.648\n",
      "Epoch: 4, Loss: 1.590\n",
      "Epoch: 5, Loss: 1.552\n",
      "Epoch: 6, Loss: 1.523\n",
      "Epoch: 7, Loss: 1.503\n",
      "Epoch: 8, Loss: 1.478\n",
      "Epoch: 9, Loss: 1.451\n",
      "Epoch: 10, Loss: 1.442\n",
      "Epoch: 11, Loss: 1.438\n",
      "Epoch: 12, Loss: 1.410\n",
      "Epoch: 13, Loss: 1.408\n",
      "Epoch: 14, Loss: 1.419\n",
      "Epoch: 15, Loss: 1.394\n",
      "Epoch: 16, Loss: 1.402\n",
      "Epoch: 17, Loss: 1.432\n",
      "Epoch: 18, Loss: 1.388\n",
      "Epoch: 19, Loss: 1.357\n",
      "Epoch: 20, Loss: 1.379\n",
      "Epoch: 21, Loss: 1.382\n",
      "Epoch: 22, Loss: 1.371\n",
      "Epoch: 23, Loss: 1.346\n",
      "Epoch: 24, Loss: 1.354\n",
      "Epoch: 25, Loss: 1.332\n",
      "Epoch: 26, Loss: 1.330\n",
      "Epoch: 27, Loss: 1.322\n",
      "Epoch: 28, Loss: 1.322\n",
      "Epoch: 29, Loss: 1.320\n",
      "Epoch: 30, Loss: 1.319\n",
      "Finished Training!\n"
     ]
    }
   ],
   "source": [
    "train_loss_bn = train(model_bn,opt2,loss_criterion2,trainLoader,30)"
   ]
  },
  {
   "cell_type": "code",
   "execution_count": 25,
   "metadata": {},
   "outputs": [
    {
     "data": {
      "image/png": "[encoded data removed]",
      "text/plain": [
       "<Figure size 432x288 with 1 Axes>"
      ]
     },
     "metadata": {},
     "output_type": "display_data"
    }
   ],
   "source": [
    "plot_train_loss(train_loss_bn, 'Training Loss with a BatchNorm Layer')"
   ]
  },
  {
   "cell_type": "code",
   "execution_count": 26,
   "metadata": {},
   "outputs": [
    {
     "name": "stdout",
     "output_type": "stream",
     "text": [
      "Accuracy on the Test Set: 52.74%\n"
     ]
    }
   ],
   "source": [
    "predict(model_bn,testLoader)"
   ]
  }
 ],
 "metadata": {
  "kernelspec": {
   "display_name": "Python 3",
   "language": "python",
   "name": "python3"
  },
  "language_info": {
   "codemirror_mode": {
    "name": "ipython",
    "version": 3
   },
   "file_extension": ".py",
   "mimetype": "text/x-python",
   "name": "python",
   "nbconvert_exporter": "python",
   "pygments_lexer": "ipython3",
   "version": "3.6.5"
  }
 },
 "nbformat": 4,
 "nbformat_minor": 2
}
